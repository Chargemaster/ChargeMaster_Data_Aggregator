{
 "cells": [
  {
   "cell_type": "markdown",
   "metadata": {},
   "source": [
    "## Chargemaster Dashboard"
   ]
  },
  {
   "cell_type": "markdown",
   "metadata": {},
   "source": [
    "Data\n",
    "- all_hospital_fee_combined.csv\n",
    "- hospital_address.csv"
   ]
  },
  {
   "cell_type": "markdown",
   "metadata": {},
   "source": [
    "### Prerequisites"
   ]
  },
  {
   "cell_type": "markdown",
   "metadata": {},
   "source": [
    "#### Packages"
   ]
  },
  {
   "cell_type": "code",
   "execution_count": 112,
   "metadata": {},
   "outputs": [],
   "source": [
    "import pandas as pd\n",
    "import numpy as np\n",
    "import plotly.express as px\n",
    "import plotly.graph_objects as go\n",
    "import dash\n",
    "from jupyter_dash import JupyterDash\n",
    "from dash import dcc\n",
    "from dash import html\n",
    "from dash.dependencies import Input, Output, State"
   ]
  },
  {
   "cell_type": "markdown",
   "metadata": {},
   "source": [
    "#### Prepare the data"
   ]
  },
  {
   "cell_type": "code",
   "execution_count": 113,
   "metadata": {},
   "outputs": [],
   "source": [
    "hospital_fee = pd.read_csv('/Users/janiceyang/Desktop/ChargeMaster_Data_Aggregator/data/all_hospital_fee_combined.csv')\n",
    "hospital_fee.head()"
   ]
  },
  {
   "cell_type": "code",
   "execution_count": 114,
   "metadata": {},
   "outputs": [],
   "source": [
    "hospital_address = pd.read_csv('/Users/janiceyang/Desktop/ChargeMaster_Data_Aggregator/data/hospital_address.csv')\n",
    "hospital_address.head()"
   ]
  },
  {
   "cell_type": "markdown",
   "metadata": {},
   "source": [
    "Combine 2 dataframes together by left joining hospital_fee with hospital_address"
   ]
  },
  {
   "cell_type": "code",
   "execution_count": 115,
   "metadata": {},
   "outputs": [],
   "source": [
    "hospital_all = hospital_fee.merge(hospital_address, on = 'hospital', how = 'left')\n",
    "hospital_all.head()"
   ]
  },
  {
   "cell_type": "markdown",
   "metadata": {},
   "source": [
    "### Visualization Preparation"
   ]
  },
  {
   "cell_type": "markdown",
   "metadata": {},
   "source": [
    "#### 1. Map that shows location of hospitals"
   ]
  },
  {
   "cell_type": "code",
   "execution_count": 116,
   "metadata": {},
   "outputs": [],
   "source": [
    "# text that will show when hover\n",
    "hospital_all['text'] = hospital_all['hospital'] + ' Size: ' + hospital_all['hospital_size'] + ' Address: ' + hospital_all['address'].astype(str)\n",
    "\n",
    "# use Scattergeo to create a geo map and add hospital location on it\n",
    "fig_1 = go.Figure(data=go.Scattergeo(\n",
    "        lon = hospital_all['longtitude'],\n",
    "        lat = hospital_all['latitude'],\n",
    "        text = hospital_all['text'],\n",
    "        mode = 'markers',\n",
    "        marker_color = hospital_all['price'],\n",
    "        ))\n",
    "\n",
    "# set the scope of the map\n",
    "fig_1.update_geos(\n",
    "        center = dict(lon = -120.31634289576678, lat = 47.42494286618738),\n",
    "        lataxis_range = [45.5,49], lonaxis_range = [-124, -116],\n",
    "        showcountries = True, countrycolor = \"lightslategrey\",\n",
    "        showsubunits = True, subunitcolor = \"Goldenrod\"\n",
    "        )\n",
    "\n",
    "fig_1.update_layout(\n",
    "        title = 'Hospital Location',\n",
    "        geo_scope='usa',        \n",
    "        )\n",
    "\n",
    "fig_1.show()"
   ]
  },
  {
   "cell_type": "markdown",
   "metadata": {},
   "source": [
    "#### 2. Price Distribution"
   ]
  },
  {
   "cell_type": "code",
   "execution_count": 117,
   "metadata": {},
   "outputs": [],
   "source": [
    "# create a histogram and set 100 bins\n",
    "fig_2 = px.histogram(hospital_all, \n",
    "                     x = \"price\", \n",
    "                     nbins = 100, \n",
    "                     color_discrete_sequence = ['lightslategrey'],)\n",
    "\n",
    "# add the median line\n",
    "fig_2.add_vline(x = np.median(hospital_all.price), \n",
    "                line_dash = 'dash', \n",
    "                line_color = 'goldenrod')\n",
    "\n",
    "fig_2.update_layout(title = \"Price Distribution\")\n",
    "\n",
    "fig_2.show()"
   ]
  },
  {
   "cell_type": "markdown",
   "metadata": {},
   "source": [
    "#### 3. Price Comparison"
   ]
  },
  {
   "cell_type": "code",
   "execution_count": 118,
   "metadata": {},
   "outputs": [],
   "source": [
    "# create separate bar for each hospital size and calculate the mean of each categoty\n",
    "small = go.Bar(\n",
    "              x = hospital_all[hospital_all.hospital_size == 'Small']['county'].unique(),\n",
    "              y = hospital_all[hospital_all.hospital_size == 'Small'].groupby(['county'])['price'].mean(),\n",
    "              name = 'Small',\n",
    "              marker_color = 'lightslategrey',)\n",
    "medium = go.Bar(\n",
    "              x = hospital_all[hospital_all.hospital_size == 'Medium']['county'].unique(),\n",
    "              y = hospital_all[hospital_all.hospital_size == 'Medium'].groupby(['county'])['price'].mean(),\n",
    "              name = 'Medium',\n",
    "              marker_color = 'darkolivegreen')\n",
    "large = go.Bar(\n",
    "              x = hospital_all[hospital_all.hospital_size == 'Large']['county'].unique(),\n",
    "              y = hospital_all[hospital_all.hospital_size == 'Large'].groupby(['county'])['price'].mean(),\n",
    "              name = 'Large',\n",
    "              marker_color = 'goldenrod')\n",
    "\n",
    "# combine 3 bard together\n",
    "fig_3 = go.Figure(data = [small, medium, large])\n",
    "fig_3.update_layout(barmode = 'group',\n",
    "                   title=\"Average Treatment Price by County/Hospital Size\")\n",
    "fig_3.show()"
   ]
  },
  {
   "cell_type": "markdown",
   "metadata": {},
   "source": [
    "#### 4. Price Detail"
   ]
  },
  {
   "cell_type": "code",
   "execution_count": 119,
   "metadata": {},
   "outputs": [],
   "source": [
    "# create a table to show detail information of price\n",
    "fig_4 = go.Figure(data = [go.Table(\n",
    "        header = dict(values = ['Hospital', 'County', 'Address', 'Size', 'Treatment', 'Price'],\n",
    "                      font = dict(color='white'),\n",
    "                      fill_color='lightslategrey',\n",
    "                      align='left'),\n",
    "        cells = dict(values = [hospital_all.hospital, hospital_all.county, hospital_all.address, hospital_all.hospital_size, hospital_all.name, hospital_all.price],\n",
    "                      align = 'left'))\n",
    "])\n",
    "\n",
    "fig_4.update_layout(title = \"Price Information\")\n",
    "fig_4.show()"
   ]
  },
  {
   "cell_type": "markdown",
   "metadata": {},
   "source": [
    "### Set up Dash layout"
   ]
  },
  {
   "cell_type": "code",
   "execution_count": 120,
   "metadata": {},
   "outputs": [],
   "source": [
    "# Plot out 4 graphs\n",
    "app = dash.Dash(__name__)\n",
    "app.layout = html.Div(\n",
    "    children=[\n",
    "        html.Div(\n",
    "            children=[\n",
    "                html.P(children=\"🏥\", style={'fontSize': \"30px\",'textAlign': 'center'}, className=\"header-emoji\"), #emoji\n",
    "                html.H1(children=\"Chargemaster Dashboard\",style={'textAlign': 'center'}, className=\"header-title\"), #Header title\n",
    "                html.H2(children=\"Comparing prices from hospitals\", style={'textAlign': 'center'}, className=\"header-description\"), # Header description\n",
    "            ],\n",
    "            className=\"header\",style={'backgroundColor':'#F5F5F5'},\n",
    "        ), \n",
    "        \n",
    "        html.Div(\n",
    "            children=[\n",
    "                html.Div(children = 'DRG Code', style={'fontSize': \"24px\"},className = 'menu-title'),\n",
    "                dcc.Dropdown(\n",
    "                    id = 'drg-filter',\n",
    "                    options = [\n",
    "                        {'label': Code, 'value': Code}\n",
    "                        for Code in hospital_all.drg_code.unique()\n",
    "                    ],\n",
    "                    value = [3, 4, 5],\n",
    "                    clearable = False,\n",
    "                    searchable = True,\n",
    "                    multi = True,\n",
    "                    className = 'dropdown', \n",
    "                    style={'fontSize': \"24px\",'textAlign': 'center'},\n",
    "                ),\n",
    "            ],\n",
    "           className = 'menu',\n",
    "        ), #the drg_code dropdown filter\n",
    "        \n",
    "        html.Div(\n",
    "            children=[\n",
    "                html.Div(children = 'County', style={'fontSize': \"24px\"},className = 'menu-title'),\n",
    "                dcc.Dropdown(\n",
    "                    id = 'county-filter',\n",
    "                    #'County' is the filter\n",
    "                    options = [\n",
    "                        {'label': County, 'value': County}\n",
    "                        for County in hospital_all.county.unique()\n",
    "                    ], \n",
    "                    value = ['King'],\n",
    "                    clearable = False,\n",
    "                    searchable = True,\n",
    "                    multi = True,\n",
    "                    className = 'dropdown', \n",
    "                    style={'fontSize': \"24px\",'textAlign': 'center'},\n",
    "                ),\n",
    "            ],\n",
    "            className = 'menu',\n",
    "        ), #the county dropdown filter\n",
    "        \n",
    "        html.Div(\n",
    "            children=[\n",
    "                html.Div(children = 'Hospital Size', style={'fontSize': \"24px\"},className = 'menu-title'),\n",
    "                dcc.Dropdown(\n",
    "                    id = 'size-filter',\n",
    "                    options = [\n",
    "                        {'label': Size, 'value': Size}\n",
    "                        for Size in hospital_all.hospital_size.unique()\n",
    "                    ], #'Size' is the filter\n",
    "                    value = ['Large', 'Medium', 'Small'],\n",
    "                    clearable = False,\n",
    "                    searchable = True,\n",
    "                    multi = True,\n",
    "                    className = 'dropdown', \n",
    "                    style={'fontSize': \"24px\",'textAlign': 'center'},\n",
    "                ),\n",
    "            ],\n",
    "        #    className = 'menu',\n",
    "        ), #the hospital_size dropdown filter\n",
    "        \n",
    "        html.Div(\n",
    "            children=[\n",
    "                html.Div(\n",
    "                children = dcc.Graph(\n",
    "                    id = 'geoscatter',\n",
    "                    figure = fig_1,\n",
    "#                     config={\"displayModeBar\": False},\n",
    "                ),\n",
    "                style={'width': '50%', 'display': 'inline-block'},\n",
    "            ),\n",
    "                \n",
    "                html.Div(\n",
    "                children = dcc.Graph(\n",
    "                    id = 'histogram',\n",
    "                    figure = fig_2,\n",
    "                    config={\"displayModeBar\": False},\n",
    "                ),\n",
    "                style={'width': '50%', 'display': 'inline-block'},\n",
    "            ),\n",
    "            \n",
    "                html.Div(\n",
    "                children = dcc.Graph(\n",
    "                    id = 'bar',\n",
    "                    figure = fig_3,\n",
    "                    config={\"displayModeBar\": False},\n",
    "                ),\n",
    "                style={'width': '50%', 'display': 'inline-block'},\n",
    "            ),\n",
    "            \n",
    "                html.Div(\n",
    "                children = dcc.Graph(\n",
    "                    id = 'table',\n",
    "                    figure = fig_4,\n",
    "                    config={\"displayModeBar\": False},\n",
    "                ),\n",
    "                style={'width': '50%', 'display': 'inline-block'},\n",
    "            ),\n",
    "            \n",
    "        ],\n",
    "        className = 'double-graph',\n",
    "        ),\n",
    "    ]\n",
    ") "
   ]
  },
  {
   "cell_type": "markdown",
   "metadata": {},
   "source": [
    "### Set up callback"
   ]
  },
  {
   "cell_type": "code",
   "execution_count": 121,
   "metadata": {},
   "outputs": [],
   "source": [
    "# geomap\n",
    "@app.callback(\n",
    "    Output(\"geoscatter\", \"figure\"),\n",
    "    [Input(\"drg-filter\", \"value\"),  \n",
    "    Input(\"county-filter\", \"value\"),\n",
    "    Input(\"size-filter\", \"value\")\n",
    "    ],\n",
    ")\n",
    "def update_charts(Code, County, Size):\n",
    "    if len(Code) == 0 or len(County) == 0 or len(Size) == 0:\n",
    "        return dash.no_update\n",
    "    else:    \n",
    "        filtered_data = hospital_all[hospital_all[\"drg_code\"].isin(Code)&\\\n",
    "                                     hospital_all[\"county\"].isin(County)&\\\n",
    "                                     hospital_all[\"hospital_size\"].isin(Size)]\n",
    "        \n",
    "        figure = go.Figure(data = go.Scattergeo(\n",
    "                        lon = filtered_data['longtitude'],\n",
    "                        lat = filtered_data['latitude'],\n",
    "                        text = filtered_data['text'],\n",
    "                        mode = 'markers',\n",
    "                        marker_color = filtered_data['price'],\n",
    "                        ))\n",
    "    \n",
    "        figure.update_geos(\n",
    "                        center = dict(lon = -120.31634289576678, lat = 47.42494286618738),\n",
    "                        lataxis_range = [45.5,49], lonaxis_range = [-124, -116],\n",
    "                        showcountries = True, countrycolor = \"lightslategrey\",\n",
    "                        showsubunits = True, subunitcolor = \"Goldenrod\"\n",
    "                        )\n",
    "    \n",
    "        figure.update_layout(\n",
    "                        title = 'Hospital Location',\n",
    "                        geo_scope='usa',        \n",
    "                        )\n",
    "        # return geomap\n",
    "        return figure\n",
    "\n",
    "# Hist\n",
    "@app.callback(\n",
    "    Output(\"histogram\", \"figure\"),\n",
    "    [Input(\"drg-filter\", \"value\"),\n",
    "    Input(\"county-filter\", \"value\"),\n",
    "    Input(\"size-filter\", \"value\")\n",
    "    ], \n",
    ")\n",
    "\n",
    "def update_charts(Code, County, Size):\n",
    "    if len(Code) == 0 or len(County) == 0 or len(Size) == 0:\n",
    "        return dash.no_update\n",
    "    else:    \n",
    "        filtered_data = hospital_all[hospital_all[\"drg_code\"].isin(Code)&\\\n",
    "                                     hospital_all[\"county\"].isin(County)&\\\n",
    "                                     hospital_all[\"hospital_size\"].isin(Size)]\n",
    "        print(filtered_data[\"drg_code\"].unique())\n",
    "        print(f\"{filtered_data.shape[0]} rows of data\")\n",
    "        print(filtered_data[\"hospital\"].unique(), len(filtered_data[\"hospital\"].unique()))     \n",
    "        figure = px.histogram(filtered_data, \n",
    "                         x = \"price\", \n",
    "                         nbins = 100, \n",
    "                         color_discrete_sequence = ['lightslategrey'],)\n",
    "    \n",
    "        figure.add_vline(x = np.median(hospital_all.price), \n",
    "                        line_dash = 'dash', \n",
    "                        line_color = 'goldenrod')\n",
    " \n",
    "        return figure\n",
    "\n",
    "# Bar plot\n",
    "@app.callback(\n",
    "    Output(\"bar\", \"figure\"),\n",
    "    [Input(\"drg-filter\", \"value\"),\n",
    "    Input(\"county-filter\", \"value\"),\n",
    "    Input(\"size-filter\", \"value\")\n",
    "    ]\n",
    ")\n",
    "\n",
    "def update_charts(Code, County, Size):\n",
    "    if len(Code) == 0 or len(County) == 0 or len(Size) == 0:\n",
    "        return dash.no_update\n",
    "    else:    \n",
    "        filtered_data = hospital_all[hospital_all[\"drg_code\"].isin(Code)&\\\n",
    "                                     hospital_all[\"county\"].isin(County)&\\\n",
    "                                     hospital_all[\"hospital_size\"].isin(Size)]\n",
    "        \n",
    "        small = go.Bar(\n",
    "                      x = filtered_data[filtered_data.hospital_size == 'Small']['county'].unique(),\n",
    "                      y = filtered_data[filtered_data.hospital_size == 'Small'].groupby(['county'])['price'].mean(),\n",
    "                      name = 'Small',\n",
    "                      marker_color = 'lightslategrey',)\n",
    "        medium = go.Bar(\n",
    "                      x = filtered_data[filtered_data.hospital_size == 'Medium']['county'].unique(),\n",
    "                      y = filtered_data[filtered_data.hospital_size == 'Medium'].groupby(['county'])['price'].mean(),\n",
    "                      name = 'Medium',\n",
    "                      marker_color = 'darkolivegreen')\n",
    "        large = go.Bar(\n",
    "                      x = filtered_data[filtered_data.hospital_size == 'Large']['county'].unique(),\n",
    "                      y = filtered_data[filtered_data.hospital_size == 'Large'].groupby(['county'])['price'].mean(),\n",
    "                      name = 'Large',\n",
    "                      marker_color = 'goldenrod')\n",
    "    \n",
    "        figure = go.Figure(data = [small, medium, large])\n",
    "        figure.update_layout(barmode = 'group',\n",
    "                           title=\"Average Treatment Price by County/Hospital Size\")\n",
    "        return figure\n",
    "\n",
    "# Table (data)   \n",
    "@app.callback(\n",
    "    Output(\"table\", \"figure\"),\n",
    "    [Input(\"drg-filter\", \"value\"),\n",
    "    Input(\"county-filter\", \"value\"),\n",
    "    Input(\"size-filter\", \"value\")\n",
    "    ]\n",
    ")\n",
    "\n",
    "def update_charts(Code, County, Size):\n",
    "    if len(Code) == 0 or len(County) == 0 or len(Size) == 0:\n",
    "        return dash.no_update\n",
    "    else:    \n",
    "        filtered_data = hospital_all[hospital_all[\"drg_code\"].isin(Code)&\\\n",
    "                                     hospital_all[\"county\"].isin(County)&\\\n",
    "                                     hospital_all[\"hospital_size\"].isin(Size)]\n",
    "        figure = go.Figure(data = [go.Table(\n",
    "                    header = dict(values = ['Hospital', 'County', 'Address', 'Size', 'Treatment', 'Price'],\n",
    "                                  font = dict(color='white'),\n",
    "                                  fill_color='lightslategrey',\n",
    "                                  align='left'),\n",
    "                    cells = dict(values = [filtered_data.hospital, filtered_data.county, filtered_data.address, filtered_data.hospital_size, filtered_data.name, filtered_data.price],\n",
    "                                  align = 'left'))\n",
    "            ])\n",
    "    \n",
    "        figure.update_layout(title = \"Price Information\")\n",
    "        return figure\n"
   ]
  },
  {
   "cell_type": "code",
   "execution_count": 122,
   "metadata": {},
   "outputs": [],
   "source": [
    "if __name__ == '__main__':\n",
    "    app.run_server()"
   ]
  },
  {
   "cell_type": "code",
   "execution_count": null,
   "metadata": {},
   "outputs": [],
   "source": []
  }
 ],
 "metadata": {
  "kernelspec": {
   "display_name": "Python 3",
   "language": "python",
   "name": "python3"
  },
  "language_info": {
   "codemirror_mode": {
    "name": "ipython",
    "version": 3
   },
   "file_extension": ".py",
   "mimetype": "text/x-python",
   "name": "python",
   "nbconvert_exporter": "python",
   "pygments_lexer": "ipython3",
   "version": "3.8.3"
  }
 },
 "nbformat": 4,
 "nbformat_minor": 5
}