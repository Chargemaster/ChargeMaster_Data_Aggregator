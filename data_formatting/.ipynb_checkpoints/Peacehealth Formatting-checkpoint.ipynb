{
 "cells": [
  {
   "cell_type": "markdown",
   "id": "e983326a",
   "metadata": {},
   "source": [
    "# Found the PeaceHealth Chargemaster"
   ]
  },
  {
   "cell_type": "code",
   "execution_count": 2,
   "id": "9c3688f2",
   "metadata": {},
   "outputs": [],
   "source": [
    "import pandas as pd\n",
    "import os, json"
   ]
  },
  {
   "cell_type": "code",
   "execution_count": 27,
   "id": "08a7650c",
   "metadata": {},
   "outputs": [],
   "source": [
    "ph = pd.read_excel(\"./peacehealth.xlsx\", None)"
   ]
  },
  {
   "cell_type": "code",
   "execution_count": 11,
   "id": "a89fb790",
   "metadata": {
    "scrolled": true
   },
   "outputs": [
    {
     "data": {
      "text/plain": [
       "dict_keys(['St Joseph Code List', 'Southwest Code List', 'Cottage Grove Code List', 'Riverbend Code List', 'St John Code List', 'University Code List', 'Peace Harbor Code List', 'United General Code List', 'Ketchikan Code List', 'Peace Island Code List', 'St Joseph Output', 'Southwest Output', 'St John Output', 'Riverbend Output', 'University Output', 'United General Output', 'Ketchikan Output', 'Peace Island Output', 'Cottage Grove Output', 'Peace Harbor Output'])"
      ]
     },
     "execution_count": 11,
     "metadata": {},
     "output_type": "execute_result"
    }
   ],
   "source": [
    "ph.keys()"
   ]
  },
  {
   "cell_type": "code",
   "execution_count": 29,
   "id": "68418388",
   "metadata": {},
   "outputs": [],
   "source": [
    "hospital_urls = json.load(open(\"../data/hospital_urls.json\", \"r\"))"
   ]
  },
  {
   "cell_type": "code",
   "execution_count": 31,
   "id": "1f37a3e7",
   "metadata": {},
   "outputs": [
    {
     "data": {
      "text/plain": [
       "dict_keys(['Arbor Health', 'Astria Sunnyside Hospital', 'Astria Toppenish Hospital', 'Cascade Behavioral Health', 'Cascade Medical', 'Cascade Valley Hospital and Clinics', 'Columbia Basin Hospital', 'Columbia County Health System', 'Confluence Health', 'Confluence Health/Central Washington Hospital', 'Confluence Health/Wenatchee Valley Hospital &amp; Clinics', 'Coulee Medical Center', 'East Adams Rural Healthcare', 'Eastern State Hospital', 'EvergreenHealth', 'EvergreenHealth Monroe', 'Fairfax Behavioral Health Everett', 'Fairfax Behavioral Health Kirkland', 'Fairfax Behavioral Health Monroe', 'Ferry County Health', 'Forks Community Hospital', 'Garfield County Hospital District', 'Harbor Regional Health', 'Inland Northwest Behavioral Health', 'Island Hospital', 'Jefferson Healthcare', 'Kadlec Regional Medical Center', 'Kaiser Foundation Health Plan of Washington', 'Kindred Hospital Seattle – First Hill', 'Kittitas Valley Healthcare', 'Klickitat Valley Health', 'Lake Chelan Health', 'Legacy Health', 'Legacy Salmon Creek Medical Center', 'Lincoln Hospital', 'Lourdes Counseling Center', 'Lourdes Health', 'Madigan Army Medical Center', 'Mason Health', 'Mid-Valley Hospital', 'MultiCare Allenmore Hospital', 'MultiCare Auburn Medical Center', 'MultiCare Capital Medical Center', 'MultiCare Covington Medical Center', 'MultiCare Deaconess Hospital', 'MultiCare Good Samaritan  Hospital', 'MultiCare Health System', 'MultiCare Mary Bridge Children’s Hospital &amp; Health Center', 'MultiCare Tacoma General Hospital', 'MultiCare Valley Hospital', 'MultiMedical Systems', 'Naval Hospital', 'Navos', 'Newport Hospital &amp; Health Services', 'North Valley Hospital', 'Ocean Beach Hospital &amp; Medical Clinics', 'Odessa Memorial Healthcare Center', 'Olympic Medical Center', 'Othello Community Hospital', 'Overlake Medical Center', 'PeaceHealth Peace Island Medical Center', 'PeaceHealth Southwest Medical Center', 'PeaceHealth St. John Medical Center', 'PeaceHealth St. Joseph Medical Center', 'PeaceHealth United General Medical Center', 'Prosser Memorial Health', 'Providence Centralia Hospital', 'Providence Holy Family Hospital', 'Providence Mount Carmel Hospital', 'Providence Regional Medical Center Everett', 'Providence Sacred Heart Medical Center &amp; Children’s Hospital', 'Providence St. Joseph’s Hospital', 'Providence St. Mary Medical Center', 'Providence St. Peter Hospital', 'Pullman Regional Hospital', 'Quincy Valley Medical Center', 'Rainier Springs', 'Samaritan Healthcare', 'Seattle Cancer Care Alliance', 'Seattle Children’s', 'Shriners Hospitals for Children – Spokane', 'Skagit Regional Health', 'Skagit Valley Hospital', 'Skyline Health', 'Smokey Point Behavioral Hospital', 'Snoqualmie Valley Hospital District', 'South Sound Behavioral Hospital', 'St. Anne Hospital', 'St. Anthony Hospital', 'St. Clare Hospital', 'St. Elizabeth Hospital', 'St. Francis Hospital', 'St. Joseph Medical Center', 'St. Luke’s Rehabilitation Institute', 'St. Michael Medical Center', 'Summit Pacific Medical Center', 'Swedish Ballard', 'Swedish Cherry Hill', 'Swedish Edmonds', 'Swedish First Hill', 'Swedish Health Services', 'Swedish Issaquah', 'Three Rivers Hospital', 'Tri-State Memorial Hospital', 'Trios Health', 'UW Medical Center Montlake &amp; Northwest', 'UW Medicine', 'UW Medicine/Harborview Medical Center', 'UW Medicine/University of Washington Medical Center', 'UW Medicine/Valley Medical Center', 'VA Puget Sound Health Care System', 'Virginia Mason Franciscan Health', 'Virginia Mason Medical Center', 'Wellfound Behavioral Health Hospital', 'Western State Hospital', 'WhidbeyHealth', 'Whitman Hospital and Medical Clinics', 'Willapa Harbor Hospital', 'Yakima Valley Memorial'])"
      ]
     },
     "execution_count": 31,
     "metadata": {},
     "output_type": "execute_result"
    }
   ],
   "source": [
    "hospital_urls.keys()"
   ]
  },
  {
   "cell_type": "markdown",
   "id": "42ef9cc9",
   "metadata": {},
   "source": [
    "hospital, hospital_size, county, drg_code, name, price"
   ]
  },
  {
   "cell_type": "markdown",
   "id": "5a51b38b",
   "metadata": {},
   "source": []
  },
  {
   "cell_type": "code",
   "execution_count": 33,
   "id": "5410ac02",
   "metadata": {},
   "outputs": [],
   "source": [
    "ph_list = [\n",
    "    'PeaceHealth St. Joseph Medical Center',\n",
    "    'PeaceHealth Southwest Medical Center',\n",
    "    'PeaceHealth St. John Medical Center',\n",
    "    'PeaceHealth United General Medical Center'\n",
    "    'PeaceHealth Peace Island Medical Center', \n",
    "        ]"
   ]
  },
  {
   "cell_type": "markdown",
   "id": "85472cf7",
   "metadata": {},
   "source": [
    "These are the PeaceHealth hospitals that are a part of WSHA. So we need to only get the CDM information from these ones"
   ]
  },
  {
   "cell_type": "code",
   "execution_count": 32,
   "id": "c1d87d27",
   "metadata": {
    "scrolled": true
   },
   "outputs": [
    {
     "data": {
      "text/plain": [
       "dict_keys(['Southwest Code List', 'Cottage Grove Code List', 'Riverbend Code List', 'St John Code List', 'University Code List', 'Peace Harbor Code List', 'United General Code List', 'Ketchikan Code List', 'Peace Island Code List', 'St Joseph Output', 'Southwest Output', 'St John Output', 'Riverbend Output', 'University Output', 'United General Output', 'Ketchikan Output', 'Peace Island Output', 'Cottage Grove Output', 'Peace Harbor Output'])"
      ]
     },
     "execution_count": 32,
     "metadata": {},
     "output_type": "execute_result"
    }
   ],
   "source": [
    "ph.keys()"
   ]
  },
  {
   "cell_type": "code",
   "execution_count": 35,
   "id": "676adeea",
   "metadata": {},
   "outputs": [],
   "source": [
    "for k in ph.copy():\n",
    "    if 'Output' not in k:\n",
    "        ph.pop(k, None)"
   ]
  },
  {
   "cell_type": "code",
   "execution_count": 38,
   "id": "bdb2115b",
   "metadata": {},
   "outputs": [
    {
     "name": "stdout",
     "output_type": "stream",
     "text": [
      "St Joseph Output\n",
      "Southwest Output\n",
      "St John Output\n",
      "Riverbend Output\n",
      "University Output\n",
      "United General Output\n",
      "Ketchikan Output\n",
      "Peace Island Output\n",
      "Cottage Grove Output\n",
      "Peace Harbor Output\n"
     ]
    }
   ],
   "source": [
    "for k in ph:\n",
    "    print(k)"
   ]
  },
  {
   "cell_type": "code",
   "execution_count": 23,
   "id": "6a02c273",
   "metadata": {},
   "outputs": [
    {
     "data": {
      "text/html": [
       "<div>\n",
       "<style scoped>\n",
       "    .dataframe tbody tr th:only-of-type {\n",
       "        vertical-align: middle;\n",
       "    }\n",
       "\n",
       "    .dataframe tbody tr th {\n",
       "        vertical-align: top;\n",
       "    }\n",
       "\n",
       "    .dataframe thead th {\n",
       "        text-align: right;\n",
       "    }\n",
       "</style>\n",
       "<table border=\"1\" class=\"dataframe\">\n",
       "  <thead>\n",
       "    <tr style=\"text-align: right;\">\n",
       "      <th></th>\n",
       "      <th>CPT/DRG Code</th>\n",
       "      <th>Service Desc.</th>\n",
       "      <th>Service Line</th>\n",
       "      <th>Category</th>\n",
       "      <th>Unnamed: 4</th>\n",
       "      <th>Unnamed: 5</th>\n",
       "      <th>Unnamed: 6</th>\n",
       "      <th>Service Line.1</th>\n",
       "      <th>CPT/DRG Code.1</th>\n",
       "      <th>Service Desc..1</th>\n",
       "      <th>(empty)</th>\n",
       "    </tr>\n",
       "  </thead>\n",
       "  <tbody>\n",
       "    <tr>\n",
       "      <th>0</th>\n",
       "      <td>90832</td>\n",
       "      <td>Psytx w pt 30 minutes</td>\n",
       "      <td>Behavioral Medicine</td>\n",
       "      <td>CMS Required</td>\n",
       "      <td>NaN</td>\n",
       "      <td>NaN</td>\n",
       "      <td>NaN</td>\n",
       "      <td>Behavioral Medicine</td>\n",
       "      <td>90832</td>\n",
       "      <td>Psytx w pt 30 minutes</td>\n",
       "      <td>NaN</td>\n",
       "    </tr>\n",
       "    <tr>\n",
       "      <th>1</th>\n",
       "      <td>90834</td>\n",
       "      <td>Psytx w pt 45 minutes</td>\n",
       "      <td>Behavioral Medicine</td>\n",
       "      <td>CMS Required</td>\n",
       "      <td>NaN</td>\n",
       "      <td>NaN</td>\n",
       "      <td>NaN</td>\n",
       "      <td>NaN</td>\n",
       "      <td>90834</td>\n",
       "      <td>Psytx w pt 45 minutes</td>\n",
       "      <td>NaN</td>\n",
       "    </tr>\n",
       "    <tr>\n",
       "      <th>2</th>\n",
       "      <td>90837</td>\n",
       "      <td>Psytx w pt 60 minutes</td>\n",
       "      <td>Behavioral Medicine</td>\n",
       "      <td>CMS Required</td>\n",
       "      <td>NaN</td>\n",
       "      <td>NaN</td>\n",
       "      <td>NaN</td>\n",
       "      <td>NaN</td>\n",
       "      <td>90837</td>\n",
       "      <td>Psytx w pt 60 minutes</td>\n",
       "      <td>NaN</td>\n",
       "    </tr>\n",
       "    <tr>\n",
       "      <th>3</th>\n",
       "      <td>90846</td>\n",
       "      <td>Family psytx w/o pt 50 min</td>\n",
       "      <td>Behavioral Medicine</td>\n",
       "      <td>CMS Required</td>\n",
       "      <td>NaN</td>\n",
       "      <td>NaN</td>\n",
       "      <td>NaN</td>\n",
       "      <td>NaN</td>\n",
       "      <td>90846</td>\n",
       "      <td>Family psytx w/o pt 50 min</td>\n",
       "      <td>NaN</td>\n",
       "    </tr>\n",
       "    <tr>\n",
       "      <th>4</th>\n",
       "      <td>90847</td>\n",
       "      <td>Family psytx w/pt 50 min</td>\n",
       "      <td>Behavioral Medicine</td>\n",
       "      <td>CMS Required</td>\n",
       "      <td>NaN</td>\n",
       "      <td>NaN</td>\n",
       "      <td>NaN</td>\n",
       "      <td>NaN</td>\n",
       "      <td>90847</td>\n",
       "      <td>Family psytx w/pt 50 min</td>\n",
       "      <td>NaN</td>\n",
       "    </tr>\n",
       "    <tr>\n",
       "      <th>...</th>\n",
       "      <td>...</td>\n",
       "      <td>...</td>\n",
       "      <td>...</td>\n",
       "      <td>...</td>\n",
       "      <td>...</td>\n",
       "      <td>...</td>\n",
       "      <td>...</td>\n",
       "      <td>...</td>\n",
       "      <td>...</td>\n",
       "      <td>...</td>\n",
       "      <td>...</td>\n",
       "    </tr>\n",
       "    <tr>\n",
       "      <th>367</th>\n",
       "      <td>31541</td>\n",
       "      <td>Larynscop w/tumr exc + scope</td>\n",
       "      <td>Procedure - Respiratory System</td>\n",
       "      <td>Model Output</td>\n",
       "      <td>NaN</td>\n",
       "      <td>NaN</td>\n",
       "      <td>NaN</td>\n",
       "      <td>NaN</td>\n",
       "      <td>269</td>\n",
       "      <td>AORTIC AND HEART ASSIST PROCEDURES EXCEPT PULS...</td>\n",
       "      <td>NaN</td>\n",
       "    </tr>\n",
       "    <tr>\n",
       "      <th>368</th>\n",
       "      <td>36589</td>\n",
       "      <td>Removal tunneled cv cath</td>\n",
       "      <td>Cardiac Catheterization</td>\n",
       "      <td>Model Output</td>\n",
       "      <td>NaN</td>\n",
       "      <td>NaN</td>\n",
       "      <td>NaN</td>\n",
       "      <td>NaN</td>\n",
       "      <td>270</td>\n",
       "      <td>OTHER MAJOR CARDIOVASCULAR PROCEDURES W MCC</td>\n",
       "      <td>NaN</td>\n",
       "    </tr>\n",
       "    <tr>\n",
       "      <th>369</th>\n",
       "      <td>33227</td>\n",
       "      <td>Remove&amp;replace pm gen singl</td>\n",
       "      <td>Electrophysiology Studies</td>\n",
       "      <td>Model Output</td>\n",
       "      <td>NaN</td>\n",
       "      <td>NaN</td>\n",
       "      <td>NaN</td>\n",
       "      <td>NaN</td>\n",
       "      <td>271</td>\n",
       "      <td>OTHER MAJOR CARDIOVASCULAR PROCEDURES W CC</td>\n",
       "      <td>NaN</td>\n",
       "    </tr>\n",
       "    <tr>\n",
       "      <th>370</th>\n",
       "      <td>28740</td>\n",
       "      <td>Fusion of foot bones</td>\n",
       "      <td>Procedure - Musculoskeletal Sys</td>\n",
       "      <td>Model Output</td>\n",
       "      <td>NaN</td>\n",
       "      <td>NaN</td>\n",
       "      <td>NaN</td>\n",
       "      <td>NaN</td>\n",
       "      <td>272</td>\n",
       "      <td>OTHER MAJOR CARDIOVASCULAR PROCEDURES W/O CC/MCC</td>\n",
       "      <td>NaN</td>\n",
       "    </tr>\n",
       "    <tr>\n",
       "      <th>371</th>\n",
       "      <td>37226</td>\n",
       "      <td>Fem/popl revasc w/stent</td>\n",
       "      <td>Procedure - Cardiovascular Sys</td>\n",
       "      <td>Model Output</td>\n",
       "      <td>NaN</td>\n",
       "      <td>NaN</td>\n",
       "      <td>NaN</td>\n",
       "      <td>NaN</td>\n",
       "      <td>300</td>\n",
       "      <td>PERIPHERAL VASCULAR DISORDERS W CC</td>\n",
       "      <td>NaN</td>\n",
       "    </tr>\n",
       "  </tbody>\n",
       "</table>\n",
       "<p>372 rows × 11 columns</p>\n",
       "</div>"
      ],
      "text/plain": [
       "     CPT/DRG Code                 Service Desc.  \\\n",
       "0           90832         Psytx w pt 30 minutes   \n",
       "1           90834         Psytx w pt 45 minutes   \n",
       "2           90837         Psytx w pt 60 minutes   \n",
       "3           90846    Family psytx w/o pt 50 min   \n",
       "4           90847      Family psytx w/pt 50 min   \n",
       "..            ...                           ...   \n",
       "367         31541  Larynscop w/tumr exc + scope   \n",
       "368         36589      Removal tunneled cv cath   \n",
       "369         33227   Remove&replace pm gen singl   \n",
       "370         28740          Fusion of foot bones   \n",
       "371         37226       Fem/popl revasc w/stent   \n",
       "\n",
       "                        Service Line      Category  Unnamed: 4  Unnamed: 5  \\\n",
       "0                Behavioral Medicine  CMS Required         NaN         NaN   \n",
       "1                Behavioral Medicine  CMS Required         NaN         NaN   \n",
       "2                Behavioral Medicine  CMS Required         NaN         NaN   \n",
       "3                Behavioral Medicine  CMS Required         NaN         NaN   \n",
       "4                Behavioral Medicine  CMS Required         NaN         NaN   \n",
       "..                               ...           ...         ...         ...   \n",
       "367   Procedure - Respiratory System  Model Output         NaN         NaN   \n",
       "368          Cardiac Catheterization  Model Output         NaN         NaN   \n",
       "369        Electrophysiology Studies  Model Output         NaN         NaN   \n",
       "370  Procedure - Musculoskeletal Sys  Model Output         NaN         NaN   \n",
       "371   Procedure - Cardiovascular Sys  Model Output         NaN         NaN   \n",
       "\n",
       "     Unnamed: 6       Service Line.1  CPT/DRG Code.1  \\\n",
       "0           NaN  Behavioral Medicine           90832   \n",
       "1           NaN                  NaN           90834   \n",
       "2           NaN                  NaN           90837   \n",
       "3           NaN                  NaN           90846   \n",
       "4           NaN                  NaN           90847   \n",
       "..          ...                  ...             ...   \n",
       "367         NaN                  NaN             269   \n",
       "368         NaN                  NaN             270   \n",
       "369         NaN                  NaN             271   \n",
       "370         NaN                  NaN             272   \n",
       "371         NaN                  NaN             300   \n",
       "\n",
       "                                       Service Desc..1  (empty)  \n",
       "0                                Psytx w pt 30 minutes      NaN  \n",
       "1                                Psytx w pt 45 minutes      NaN  \n",
       "2                                Psytx w pt 60 minutes      NaN  \n",
       "3                           Family psytx w/o pt 50 min      NaN  \n",
       "4                             Family psytx w/pt 50 min      NaN  \n",
       "..                                                 ...      ...  \n",
       "367  AORTIC AND HEART ASSIST PROCEDURES EXCEPT PULS...      NaN  \n",
       "368        OTHER MAJOR CARDIOVASCULAR PROCEDURES W MCC      NaN  \n",
       "369         OTHER MAJOR CARDIOVASCULAR PROCEDURES W CC      NaN  \n",
       "370   OTHER MAJOR CARDIOVASCULAR PROCEDURES W/O CC/MCC      NaN  \n",
       "371                 PERIPHERAL VASCULAR DISORDERS W CC      NaN  \n",
       "\n",
       "[372 rows x 11 columns]"
      ]
     },
     "execution_count": 23,
     "metadata": {},
     "output_type": "execute_result"
    }
   ],
   "source": [
    "ph['St Joseph Code List']"
   ]
  }
 ],
 "metadata": {
  "kernelspec": {
   "display_name": "Python 3 (ipykernel)",
   "language": "python",
   "name": "python3"
  },
  "language_info": {
   "codemirror_mode": {
    "name": "ipython",
    "version": 3
   },
   "file_extension": ".py",
   "mimetype": "text/x-python",
   "name": "python",
   "nbconvert_exporter": "python",
   "pygments_lexer": "ipython3",
   "version": "3.8.8"
  }
 },
 "nbformat": 4,
 "nbformat_minor": 5
}
