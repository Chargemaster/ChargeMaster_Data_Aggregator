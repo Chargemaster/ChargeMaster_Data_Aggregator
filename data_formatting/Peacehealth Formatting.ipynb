{
 "cells": [
  {
   "cell_type": "markdown",
   "id": "1bc881b2",
   "metadata": {},
   "source": [
    "# Found the PeaceHealth Chargemaster"
   ]
  },
  {
   "cell_type": "code",
   "execution_count": 2,
   "id": "5462c9fc",
   "metadata": {},
   "outputs": [],
   "source": [
    "import pandas as pd\n",
    "import os, json"
   ]
  },
  {
   "cell_type": "code",
   "execution_count": 126,
   "id": "bcdac5dd",
   "metadata": {},
   "outputs": [],
   "source": [
    "ph = pd.read_excel(\"./peacehealth.xlsx\", None)"
   ]
  },
  {
   "cell_type": "code",
   "execution_count": 127,
   "id": "2f4cdb72",
   "metadata": {
    "scrolled": false
   },
   "outputs": [
    {
     "data": {
      "text/plain": [
       "dict_keys(['St Joseph Code List', 'Southwest Code List', 'Cottage Grove Code List', 'Riverbend Code List', 'St John Code List', 'University Code List', 'Peace Harbor Code List', 'United General Code List', 'Ketchikan Code List', 'Peace Island Code List', 'St Joseph Output', 'Southwest Output', 'St John Output', 'Riverbend Output', 'University Output', 'United General Output', 'Ketchikan Output', 'Peace Island Output', 'Cottage Grove Output', 'Peace Harbor Output'])"
      ]
     },
     "execution_count": 127,
     "metadata": {},
     "output_type": "execute_result"
    }
   ],
   "source": [
    "ph.keys()"
   ]
  },
  {
   "cell_type": "code",
   "execution_count": 29,
   "id": "33e81d36",
   "metadata": {},
   "outputs": [],
   "source": [
    "hospital_urls = json.load(open(\"../data/hospital_urls.json\", \"r\"))"
   ]
  },
  {
   "cell_type": "code",
   "execution_count": 31,
   "id": "6f5606c4",
   "metadata": {},
   "outputs": [
    {
     "data": {
      "text/plain": [
       "dict_keys(['Arbor Health', 'Astria Sunnyside Hospital', 'Astria Toppenish Hospital', 'Cascade Behavioral Health', 'Cascade Medical', 'Cascade Valley Hospital and Clinics', 'Columbia Basin Hospital', 'Columbia County Health System', 'Confluence Health', 'Confluence Health/Central Washington Hospital', 'Confluence Health/Wenatchee Valley Hospital &amp; Clinics', 'Coulee Medical Center', 'East Adams Rural Healthcare', 'Eastern State Hospital', 'EvergreenHealth', 'EvergreenHealth Monroe', 'Fairfax Behavioral Health Everett', 'Fairfax Behavioral Health Kirkland', 'Fairfax Behavioral Health Monroe', 'Ferry County Health', 'Forks Community Hospital', 'Garfield County Hospital District', 'Harbor Regional Health', 'Inland Northwest Behavioral Health', 'Island Hospital', 'Jefferson Healthcare', 'Kadlec Regional Medical Center', 'Kaiser Foundation Health Plan of Washington', 'Kindred Hospital Seattle – First Hill', 'Kittitas Valley Healthcare', 'Klickitat Valley Health', 'Lake Chelan Health', 'Legacy Health', 'Legacy Salmon Creek Medical Center', 'Lincoln Hospital', 'Lourdes Counseling Center', 'Lourdes Health', 'Madigan Army Medical Center', 'Mason Health', 'Mid-Valley Hospital', 'MultiCare Allenmore Hospital', 'MultiCare Auburn Medical Center', 'MultiCare Capital Medical Center', 'MultiCare Covington Medical Center', 'MultiCare Deaconess Hospital', 'MultiCare Good Samaritan  Hospital', 'MultiCare Health System', 'MultiCare Mary Bridge Children’s Hospital &amp; Health Center', 'MultiCare Tacoma General Hospital', 'MultiCare Valley Hospital', 'MultiMedical Systems', 'Naval Hospital', 'Navos', 'Newport Hospital &amp; Health Services', 'North Valley Hospital', 'Ocean Beach Hospital &amp; Medical Clinics', 'Odessa Memorial Healthcare Center', 'Olympic Medical Center', 'Othello Community Hospital', 'Overlake Medical Center', 'PeaceHealth Peace Island Medical Center', 'PeaceHealth Southwest Medical Center', 'PeaceHealth St. John Medical Center', 'PeaceHealth St. Joseph Medical Center', 'PeaceHealth United General Medical Center', 'Prosser Memorial Health', 'Providence Centralia Hospital', 'Providence Holy Family Hospital', 'Providence Mount Carmel Hospital', 'Providence Regional Medical Center Everett', 'Providence Sacred Heart Medical Center &amp; Children’s Hospital', 'Providence St. Joseph’s Hospital', 'Providence St. Mary Medical Center', 'Providence St. Peter Hospital', 'Pullman Regional Hospital', 'Quincy Valley Medical Center', 'Rainier Springs', 'Samaritan Healthcare', 'Seattle Cancer Care Alliance', 'Seattle Children’s', 'Shriners Hospitals for Children – Spokane', 'Skagit Regional Health', 'Skagit Valley Hospital', 'Skyline Health', 'Smokey Point Behavioral Hospital', 'Snoqualmie Valley Hospital District', 'South Sound Behavioral Hospital', 'St. Anne Hospital', 'St. Anthony Hospital', 'St. Clare Hospital', 'St. Elizabeth Hospital', 'St. Francis Hospital', 'St. Joseph Medical Center', 'St. Luke’s Rehabilitation Institute', 'St. Michael Medical Center', 'Summit Pacific Medical Center', 'Swedish Ballard', 'Swedish Cherry Hill', 'Swedish Edmonds', 'Swedish First Hill', 'Swedish Health Services', 'Swedish Issaquah', 'Three Rivers Hospital', 'Tri-State Memorial Hospital', 'Trios Health', 'UW Medical Center Montlake &amp; Northwest', 'UW Medicine', 'UW Medicine/Harborview Medical Center', 'UW Medicine/University of Washington Medical Center', 'UW Medicine/Valley Medical Center', 'VA Puget Sound Health Care System', 'Virginia Mason Franciscan Health', 'Virginia Mason Medical Center', 'Wellfound Behavioral Health Hospital', 'Western State Hospital', 'WhidbeyHealth', 'Whitman Hospital and Medical Clinics', 'Willapa Harbor Hospital', 'Yakima Valley Memorial'])"
      ]
     },
     "execution_count": 31,
     "metadata": {},
     "output_type": "execute_result"
    }
   ],
   "source": [
    "hospital_urls.keys()"
   ]
  },
  {
   "cell_type": "markdown",
   "id": "ec6d9c6d",
   "metadata": {},
   "source": [
    "hospital, hospital_size, county, drg_code, name, price"
   ]
  },
  {
   "cell_type": "markdown",
   "id": "f2043b7e",
   "metadata": {},
   "source": []
  },
  {
   "cell_type": "code",
   "execution_count": 128,
   "id": "95beadba",
   "metadata": {},
   "outputs": [],
   "source": [
    "ph_list = [\n",
    "    'PeaceHealth St. Joseph Medical Center',\n",
    "    'PeaceHealth Southwest Medical Center',\n",
    "    'PeaceHealth St. John Medical Center',\n",
    "    'PeaceHealth United General Medical Center',\n",
    "    'PeaceHealth Peace Island Medical Center', \n",
    "    ]"
   ]
  },
  {
   "cell_type": "markdown",
   "id": "4ef4e8ba",
   "metadata": {},
   "source": [
    "These are the PeaceHealth hospitals that are a part of WSHA. So we need to only get the CDM information from these ones"
   ]
  },
  {
   "cell_type": "code",
   "execution_count": 117,
   "id": "69cfc226",
   "metadata": {
    "scrolled": true
   },
   "outputs": [
    {
     "data": {
      "text/plain": [
       "dict_keys(['St Joseph Code List', 'Southwest Code List', 'Cottage Grove Code List', 'Riverbend Code List', 'St John Code List', 'University Code List', 'Peace Harbor Code List', 'United General Code List', 'Ketchikan Code List', 'Peace Island Code List', 'St Joseph Output', 'Southwest Output', 'St John Output', 'Riverbend Output', 'University Output', 'United General Output', 'Ketchikan Output', 'Peace Island Output', 'Cottage Grove Output', 'Peace Harbor Output'])"
      ]
     },
     "execution_count": 117,
     "metadata": {},
     "output_type": "execute_result"
    }
   ],
   "source": [
    "ph.keys()"
   ]
  },
  {
   "cell_type": "code",
   "execution_count": 129,
   "id": "e8dd068c",
   "metadata": {},
   "outputs": [],
   "source": [
    "for k in ph.copy():\n",
    "    if 'Output' not in k:\n",
    "        ph.pop(k, None)"
   ]
  },
  {
   "cell_type": "code",
   "execution_count": 130,
   "id": "d4e68d69",
   "metadata": {},
   "outputs": [],
   "source": [
    "del_list = ['Riverbend Output', 'University Output', \n",
    "            'Ketchikan Output', 'Cottage Grove Output', \n",
    "            'Peace Harbor Output']\n",
    "\n",
    "for invalid_hospital in del_list:\n",
    "    ph.pop(invalid_hospital, None)"
   ]
  },
  {
   "cell_type": "code",
   "execution_count": 131,
   "id": "243296b7",
   "metadata": {
    "scrolled": false
   },
   "outputs": [
    {
     "data": {
      "text/plain": [
       "dict_keys(['St Joseph Output', 'Southwest Output', 'St John Output', 'United General Output', 'Peace Island Output'])"
      ]
     },
     "execution_count": 131,
     "metadata": {},
     "output_type": "execute_result"
    }
   ],
   "source": [
    "ph.keys()"
   ]
  },
  {
   "cell_type": "code",
   "execution_count": 132,
   "id": "45ac7289",
   "metadata": {
    "scrolled": false
   },
   "outputs": [
    {
     "name": "stdout",
     "output_type": "stream",
     "text": [
      "PeaceHealth St. Joseph Medical Center | St Joseph Output\n",
      "PeaceHealth Southwest Medical Center | Southwest Output\n",
      "PeaceHealth St. John Medical Center | St John Output\n",
      "PeaceHealth United General Medical Center | United General Output\n",
      "PeaceHealth Peace Island Medical Center | Peace Island Output\n"
     ]
    }
   ],
   "source": [
    "for name, k in zip(ph_list, ph):\n",
    "    print(f\"{name} | {k}\")"
   ]
  },
  {
   "cell_type": "markdown",
   "id": "69b2214e",
   "metadata": {},
   "source": [
    "Sheet names to hospital names match up"
   ]
  },
  {
   "cell_type": "code",
   "execution_count": 133,
   "id": "93491d1e",
   "metadata": {
    "scrolled": false
   },
   "outputs": [
    {
     "name": "stdout",
     "output_type": "stream",
     "text": [
      "['Service Line', 'CPT/DRG Code', 'Service Desc.', 'Inpatient / Outpatient', 'Price', 'Min Reimb', 'Max Reimb', 'Self-pay Rate', 'Unnamed: 8', 'Cigna', 'First Health', 'Intercare', 'Premera', 'Meritain', 'United Health Care']\n"
     ]
    }
   ],
   "source": [
    "column_names = ph[list(ph.keys())[0]].columns.values.tolist() # a dict of df. ugly translation.\n",
    "print(column_names)"
   ]
  },
  {
   "cell_type": "markdown",
   "id": "db8281df",
   "metadata": {},
   "source": [
    "Each sheet has specific insurance information from different providers. Need to remove these."
   ]
  },
  {
   "cell_type": "code",
   "execution_count": 134,
   "id": "48f87f41",
   "metadata": {},
   "outputs": [],
   "source": [
    "# Remove insurance related columns\n",
    "for k,v in ph.items():\n",
    "    for column in column_names:\n",
    "        v.drop(v.iloc[:, 8:], inplace=True, axis=1)\n",
    "        ph[k] = v"
   ]
  },
  {
   "cell_type": "markdown",
   "id": "f6973258",
   "metadata": {},
   "source": [
    "The dataset doesn't use NaN values or valid Null/None types. It has \"N/A\" and \"TB\" as string literals so can't use dropna(). Have to filter manually."
   ]
  },
  {
   "cell_type": "code",
   "execution_count": 135,
   "id": "9b9cc0a0",
   "metadata": {},
   "outputs": [
    {
     "name": "stdout",
     "output_type": "stream",
     "text": [
      "['Service Line', 'CPT/DRG Code', 'Service Desc.', 'Inpatient / Outpatient', 'Price', 'Min Reimb', 'Max Reimb', 'Self-pay Rate']\n"
     ]
    }
   ],
   "source": [
    "# Grab updated column names\n",
    "column_names = ph[list(ph.keys())[0]].columns.values.tolist() # a dict of df. ugly translation.\n",
    "print(column_names)"
   ]
  },
  {
   "cell_type": "code",
   "execution_count": 125,
   "id": "e3bf6f1c",
   "metadata": {},
   "outputs": [
    {
     "name": "stdout",
     "output_type": "stream",
     "text": [
      "32\n",
      "36\n",
      "35\n",
      "24\n",
      "15\n"
     ]
    }
   ],
   "source": [
    "\"\"\"\n",
    "#drop rows that contain specific 'value' in 'column_name'\n",
    "df = df[df.column_name != value]\n",
    "\"\"\"\n",
    "invalid_values = ['N/A', 'TB']\n",
    "for k, v in ph.items():\n",
    "    for column in column_names:\n",
    "        v = v[v[column].isin(invalid_values) == False]\n",
    "    v = v[['CPT/DRG Code', 'Service Desc.', 'Price']]\n",
    "    ph[k] = v.dropna()"
   ]
  },
  {
   "cell_type": "markdown",
   "id": "0df003e5",
   "metadata": {},
   "source": [
    "Rename columns"
   ]
  },
  {
   "cell_type": "code",
   "execution_count": 107,
   "id": "d01c8293",
   "metadata": {},
   "outputs": [],
   "source": [
    "for k, v in ph.items():\n",
    "    ph[k].columns = ['drg_code', 'name', 'price']\n",
    "    ph[k]['price'] = ph[k]['price'].astype(float)\n",
    "    ph[k] = ph[k].round({'price': 4})"
   ]
  },
  {
   "cell_type": "code",
   "execution_count": 113,
   "id": "9b3ff2e2",
   "metadata": {},
   "outputs": [],
   "source": [
    "ph_dfs = []\n",
    "for name, k in zip(ph_list, ph):\n",
    "    county, nbeds = hospital_urls[name]['county'], hospital_urls[name]['nbeds']\n",
    "    hospital_size = 'Small' if nbeds < 100 else 'Medium'\n",
    "    hospital_size = 'Large' if nbeds > 175 else 'Medium'\n",
    "    ph[k].insert(1, 'hospital_size', hospital_size)\n",
    "    ph[k].insert(2, 'county', county)\n",
    "    ph_dfs.append(ph[k])"
   ]
  },
  {
   "cell_type": "code",
   "execution_count": 115,
   "id": "7a950866",
   "metadata": {},
   "outputs": [
    {
     "data": {
      "text/html": [
       "<div>\n",
       "<style scoped>\n",
       "    .dataframe tbody tr th:only-of-type {\n",
       "        vertical-align: middle;\n",
       "    }\n",
       "\n",
       "    .dataframe tbody tr th {\n",
       "        vertical-align: top;\n",
       "    }\n",
       "\n",
       "    .dataframe thead th {\n",
       "        text-align: right;\n",
       "    }\n",
       "</style>\n",
       "<table border=\"1\" class=\"dataframe\">\n",
       "  <thead>\n",
       "    <tr style=\"text-align: right;\">\n",
       "      <th></th>\n",
       "      <th>drg_code</th>\n",
       "      <th>hospital_size</th>\n",
       "      <th>county</th>\n",
       "      <th>name</th>\n",
       "      <th>price</th>\n",
       "    </tr>\n",
       "  </thead>\n",
       "  <tbody>\n",
       "    <tr>\n",
       "      <th>0</th>\n",
       "      <td>216</td>\n",
       "      <td>Large</td>\n",
       "      <td>Whatcom</td>\n",
       "      <td>Cardiac Valve &amp; Oth Maj Cardiothoracic Proc W ...</td>\n",
       "      <td>306198.98</td>\n",
       "    </tr>\n",
       "    <tr>\n",
       "      <th>1</th>\n",
       "      <td>743</td>\n",
       "      <td>Large</td>\n",
       "      <td>Whatcom</td>\n",
       "      <td>Uterine &amp; Adnexa Proc For Non-Malignancy W/O C...</td>\n",
       "      <td>33923.70</td>\n",
       "    </tr>\n",
       "    <tr>\n",
       "      <th>2</th>\n",
       "      <td>470</td>\n",
       "      <td>Large</td>\n",
       "      <td>Whatcom</td>\n",
       "      <td>Major Hip And Knee Joint Replacement Or Reatta...</td>\n",
       "      <td>59529.03</td>\n",
       "    </tr>\n",
       "    <tr>\n",
       "      <th>3</th>\n",
       "      <td>460</td>\n",
       "      <td>Large</td>\n",
       "      <td>Whatcom</td>\n",
       "      <td>Spinal Fusion Except Cervical W/O Mcc</td>\n",
       "      <td>70992.56</td>\n",
       "    </tr>\n",
       "    <tr>\n",
       "      <th>5</th>\n",
       "      <td>96125</td>\n",
       "      <td>Large</td>\n",
       "      <td>Whatcom</td>\n",
       "      <td>Standardized Thought Processing Testing, Inter...</td>\n",
       "      <td>365.00</td>\n",
       "    </tr>\n",
       "    <tr>\n",
       "      <th>...</th>\n",
       "      <td>...</td>\n",
       "      <td>...</td>\n",
       "      <td>...</td>\n",
       "      <td>...</td>\n",
       "      <td>...</td>\n",
       "    </tr>\n",
       "    <tr>\n",
       "      <th>230</th>\n",
       "      <td>36600</td>\n",
       "      <td>Medium</td>\n",
       "      <td>San Juan</td>\n",
       "      <td>Lab Arterial Blood Collection</td>\n",
       "      <td>131.00</td>\n",
       "    </tr>\n",
       "    <tr>\n",
       "      <th>243</th>\n",
       "      <td>12031</td>\n",
       "      <td>Medium</td>\n",
       "      <td>San Juan</td>\n",
       "      <td>Repair Of Wound (2.5 Centimeters Or Less) Of T...</td>\n",
       "      <td>630.00</td>\n",
       "    </tr>\n",
       "    <tr>\n",
       "      <th>249</th>\n",
       "      <td>62270</td>\n",
       "      <td>Medium</td>\n",
       "      <td>San Juan</td>\n",
       "      <td>Spinal Tap For Diagnosis</td>\n",
       "      <td>543.00</td>\n",
       "    </tr>\n",
       "    <tr>\n",
       "      <th>255</th>\n",
       "      <td>71046</td>\n",
       "      <td>Medium</td>\n",
       "      <td>San Juan</td>\n",
       "      <td>X-Ray Of Chest, 2 Vies</td>\n",
       "      <td>360.00</td>\n",
       "    </tr>\n",
       "    <tr>\n",
       "      <th>293</th>\n",
       "      <td>99203</td>\n",
       "      <td>Medium</td>\n",
       "      <td>San Juan</td>\n",
       "      <td>New Patient Office Or Other Outpatient Visit, ...</td>\n",
       "      <td>243.00</td>\n",
       "    </tr>\n",
       "  </tbody>\n",
       "</table>\n",
       "<p>142 rows × 5 columns</p>\n",
       "</div>"
      ],
      "text/plain": [
       "    drg_code hospital_size    county  \\\n",
       "0        216         Large   Whatcom   \n",
       "1        743         Large   Whatcom   \n",
       "2        470         Large   Whatcom   \n",
       "3        460         Large   Whatcom   \n",
       "5      96125         Large   Whatcom   \n",
       "..       ...           ...       ...   \n",
       "230    36600        Medium  San Juan   \n",
       "243    12031        Medium  San Juan   \n",
       "249    62270        Medium  San Juan   \n",
       "255    71046        Medium  San Juan   \n",
       "293    99203        Medium  San Juan   \n",
       "\n",
       "                                                  name      price  \n",
       "0    Cardiac Valve & Oth Maj Cardiothoracic Proc W ...  306198.98  \n",
       "1    Uterine & Adnexa Proc For Non-Malignancy W/O C...   33923.70  \n",
       "2    Major Hip And Knee Joint Replacement Or Reatta...   59529.03  \n",
       "3                Spinal Fusion Except Cervical W/O Mcc   70992.56  \n",
       "5    Standardized Thought Processing Testing, Inter...     365.00  \n",
       "..                                                 ...        ...  \n",
       "230                      Lab Arterial Blood Collection     131.00  \n",
       "243  Repair Of Wound (2.5 Centimeters Or Less) Of T...     630.00  \n",
       "249                           Spinal Tap For Diagnosis     543.00  \n",
       "255                             X-Ray Of Chest, 2 Vies     360.00  \n",
       "293  New Patient Office Or Other Outpatient Visit, ...     243.00  \n",
       "\n",
       "[142 rows x 5 columns]"
      ]
     },
     "execution_count": 115,
     "metadata": {},
     "output_type": "execute_result"
    }
   ],
   "source": [
    "all_phs = pd.concat(ph_dfs)\n",
    "all_phs"
   ]
  },
  {
   "cell_type": "markdown",
   "id": "03931ec0",
   "metadata": {},
   "source": [
    "<100: small\n",
    "\n",
    "100-175: middle\n",
    "\n",
    ">175: large"
   ]
  }
 ],
 "metadata": {
  "kernelspec": {
   "display_name": "Python 3 (ipykernel)",
   "language": "python",
   "name": "python3"
  },
  "language_info": {
   "codemirror_mode": {
    "name": "ipython",
    "version": 3
   },
   "file_extension": ".py",
   "mimetype": "text/x-python",
   "name": "python",
   "nbconvert_exporter": "python",
   "pygments_lexer": "ipython3",
   "version": "3.8.8"
  }
 },
 "nbformat": 4,
 "nbformat_minor": 5
}
