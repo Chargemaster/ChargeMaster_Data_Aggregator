{
 "cells": [
  {
   "cell_type": "markdown",
   "metadata": {},
   "source": [
    "# Going to be manually cleaning the data to fit a specific format for analysis."
   ]
  },
  {
   "cell_type": "markdown",
   "metadata": {},
   "source": [
    "## Import Statements"
   ]
  },
  {
   "cell_type": "code",
   "execution_count": 92,
   "metadata": {},
   "outputs": [],
   "source": [
    "import pandas as pd\n",
    "import os, json"
   ]
  },
  {
   "cell_type": "markdown",
   "metadata": {},
   "source": [
    "## Providence Medical Data\n",
    "\n",
    "I found that providence has all of their CDM's in DRG format on the same page so I've loaded them all locally and can clean them all at once.\n",
    "They do differ just slightly. E.g. one may have an extra row that the others don't."
   ]
  },
  {
   "cell_type": "code",
   "execution_count": 6,
   "metadata": {
    "scrolled": false
   },
   "outputs": [
    {
     "data": {
      "text/plain": [
       "['providence_mount_carmel.xlsx',\n",
       " 'providence_st_peter.xlsx',\n",
       " 'providence_regional_medical_everett.xlsx',\n",
       " 'providence_holy_family.xlsx',\n",
       " 'providence_st_josephs.xlsx',\n",
       " 'providence_centralia.xlsx',\n",
       " 'providence_sacred_heart_childrens.xlsx',\n",
       " 'providence_st_mary.xlsx',\n",
       " 'providence_sacred_heart_medical.xlsx']"
      ]
     },
     "execution_count": 6,
     "metadata": {},
     "output_type": "execute_result"
    }
   ],
   "source": [
    "file_paths = os.listdir('./providence')\n",
    "file_paths"
   ]
  },
  {
   "cell_type": "markdown",
   "metadata": {},
   "source": [
    "Get their respective filenames."
   ]
  },
  {
   "cell_type": "code",
   "execution_count": 7,
   "metadata": {
    "scrolled": true
   },
   "outputs": [
    {
     "data": {
      "text/plain": [
       "['providence_mount_carmel',\n",
       " 'providence_st_peter',\n",
       " 'providence_regional_medical_everett',\n",
       " 'providence_holy_family',\n",
       " 'providence_st_josephs',\n",
       " 'providence_centralia',\n",
       " 'providence_sacred_heart_childrens',\n",
       " 'providence_st_mary',\n",
       " 'providence_sacred_heart_medical']"
      ]
     },
     "execution_count": 7,
     "metadata": {},
     "output_type": "execute_result"
    }
   ],
   "source": [
    "hospital_names = [filename[0:-5] for filename in file_paths]\n",
    "hospital_names"
   ]
  },
  {
   "cell_type": "code",
   "execution_count": 97,
   "metadata": {},
   "outputs": [],
   "source": [
    "hospital_names = [\n",
    "    'Providence Mount Carmel Hospital', \n",
    "    'Providence St. Peter Hospital',\n",
    "    'Providence Regional Medical Center Everett',\n",
    "    'Providence Holy Family Hospital',\n",
    "    'Providence St. Joseph’s Hospital',\n",
    "    'Providence Centralia Hospital',  \n",
    "    'Providence Sacred Heart Medical Center &amp; Children’s Hospital',  \n",
    "    'Providence St. Mary Medical Center',\n",
    "    'Providence Sacred Heart Medical Center &amp; Children’s Hospital'\n",
    "]"
   ]
  },
  {
   "cell_type": "markdown",
   "metadata": {},
   "source": [
    "Going to organize them all as a dictionary"
   ]
  },
  {
   "cell_type": "code",
   "execution_count": 111,
   "metadata": {},
   "outputs": [],
   "source": [
    "dfs = []\n",
    "for name, path in zip(hospital_names, file_paths):\n",
    "    # If it's one of the ones Janice has already done.\n",
    "    if name in ['Providence St. Peter Hospital', 'Providence St. Mary Medical Center']:\n",
    "        continue\n",
    "    df = pd.read_excel(f\"./providence/{path}\").drop(\"Number of Claims\", 1)\n",
    "    df.columns = ['hospital', 'drg_code', 'name', 'price']\n",
    "    df['drg_code'] = df['drg_code'].astype(int)\n",
    "    df['price'] = df['price'].astype(float)\n",
    "    df = df.round({'price': 4})\n",
    "    nbeds, county = hospital_urls[name]['nbeds'], hospital_urls[name]['county']\n",
    "    hospital_size = \"Small\" if nbeds < 100 else \"Medium\"\n",
    "    hospital_size = \"Large\" if nbeds > 175 else \"Medium\"\n",
    "    df.insert(1, 'hospital_size', hospital_size)\n",
    "    df.insert(2, 'county', county)\n",
    "    dfs.append(df)\n",
    "\n",
    "all_providence = pd.concat(dfs)"
   ]
  },
  {
   "cell_type": "code",
   "execution_count": 114,
   "metadata": {},
   "outputs": [],
   "source": [
    "all_providence.to_csv(\"all_providences_fee.csv\", index=False)"
   ]
  },
  {
   "cell_type": "code",
   "execution_count": 93,
   "metadata": {
    "scrolled": true
   },
   "outputs": [],
   "source": [
    "hospital_urls = json.load(open(\"../data/hospital_urls.json\", \"r\"))"
   ]
  },
  {
   "cell_type": "code",
   "execution_count": 96,
   "metadata": {},
   "outputs": [
    {
     "data": {
      "text/plain": [
       "dict_keys(['Arbor Health', 'Astria Sunnyside Hospital', 'Astria Toppenish Hospital', 'Cascade Behavioral Health', 'Cascade Medical', 'Cascade Valley Hospital and Clinics', 'Columbia Basin Hospital', 'Columbia County Health System', 'Confluence Health', 'Confluence Health/Central Washington Hospital', 'Confluence Health/Wenatchee Valley Hospital &amp; Clinics', 'Coulee Medical Center', 'East Adams Rural Healthcare', 'Eastern State Hospital', 'EvergreenHealth', 'EvergreenHealth Monroe', 'Fairfax Behavioral Health Everett', 'Fairfax Behavioral Health Kirkland', 'Fairfax Behavioral Health Monroe', 'Ferry County Health', 'Forks Community Hospital', 'Garfield County Hospital District', 'Harbor Regional Health', 'Inland Northwest Behavioral Health', 'Island Hospital', 'Jefferson Healthcare', 'Kadlec Regional Medical Center', 'Kaiser Foundation Health Plan of Washington', 'Kindred Hospital Seattle – First Hill', 'Kittitas Valley Healthcare', 'Klickitat Valley Health', 'Lake Chelan Health', 'Legacy Health', 'Legacy Salmon Creek Medical Center', 'Lincoln Hospital', 'Lourdes Counseling Center', 'Lourdes Health', 'Madigan Army Medical Center', 'Mason Health', 'Mid-Valley Hospital', 'MultiCare Allenmore Hospital', 'MultiCare Auburn Medical Center', 'MultiCare Capital Medical Center', 'MultiCare Covington Medical Center', 'MultiCare Deaconess Hospital', 'MultiCare Good Samaritan  Hospital', 'MultiCare Health System', 'MultiCare Mary Bridge Children’s Hospital &amp; Health Center', 'MultiCare Tacoma General Hospital', 'MultiCare Valley Hospital', 'MultiMedical Systems', 'Naval Hospital', 'Navos', 'Newport Hospital &amp; Health Services', 'North Valley Hospital', 'Ocean Beach Hospital &amp; Medical Clinics', 'Odessa Memorial Healthcare Center', 'Olympic Medical Center', 'Othello Community Hospital', 'Overlake Medical Center', 'PeaceHealth Peace Island Medical Center', 'PeaceHealth Southwest Medical Center', 'PeaceHealth St. John Medical Center', 'PeaceHealth St. Joseph Medical Center', 'PeaceHealth United General Medical Center', 'Prosser Memorial Health', 'Providence Centralia Hospital', 'Providence Holy Family Hospital', 'Providence Mount Carmel Hospital', 'Providence Regional Medical Center Everett', 'Providence Sacred Heart Medical Center &amp; Children’s Hospital', 'Providence St. Joseph’s Hospital', 'Providence St. Mary Medical Center', 'Providence St. Peter Hospital', 'Pullman Regional Hospital', 'Quincy Valley Medical Center', 'Rainier Springs', 'Samaritan Healthcare', 'Seattle Cancer Care Alliance', 'Seattle Children’s', 'Shriners Hospitals for Children – Spokane', 'Skagit Regional Health', 'Skagit Valley Hospital', 'Skyline Health', 'Smokey Point Behavioral Hospital', 'Snoqualmie Valley Hospital District', 'South Sound Behavioral Hospital', 'St. Anne Hospital', 'St. Anthony Hospital', 'St. Clare Hospital', 'St. Elizabeth Hospital', 'St. Francis Hospital', 'St. Joseph Medical Center', 'St. Luke’s Rehabilitation Institute', 'St. Michael Medical Center', 'Summit Pacific Medical Center', 'Swedish Ballard', 'Swedish Cherry Hill', 'Swedish Edmonds', 'Swedish First Hill', 'Swedish Health Services', 'Swedish Issaquah', 'Three Rivers Hospital', 'Tri-State Memorial Hospital', 'Trios Health', 'UW Medical Center Montlake &amp; Northwest', 'UW Medicine', 'UW Medicine/Harborview Medical Center', 'UW Medicine/University of Washington Medical Center', 'UW Medicine/Valley Medical Center', 'VA Puget Sound Health Care System', 'Virginia Mason Franciscan Health', 'Virginia Mason Medical Center', 'Wellfound Behavioral Health Hospital', 'Western State Hospital', 'WhidbeyHealth', 'Whitman Hospital and Medical Clinics', 'Willapa Harbor Hospital', 'Yakima Valley Memorial'])"
      ]
     },
     "execution_count": 96,
     "metadata": {},
     "output_type": "execute_result"
    }
   ],
   "source": [
    "hospital_urls.keys()"
   ]
  },
  {
   "cell_type": "code",
   "execution_count": null,
   "metadata": {},
   "outputs": [],
   "source": [
    "[\n",
    " 'Providence Centralia Hospital', \n",
    " 'Providence Holy Family Hospital', \n",
    " 'Providence Mount Carmel Hospital', \n",
    " 'Providence Regional Medical Center Everett', \n",
    " 'Providence Sacred Heart Medical Center &amp; Children’s Hospital', \n",
    " 'Providence St. Joseph’s Hospital', \n",
    " 'Providence St. Mary Medical Center', \n",
    " 'Providence St. Peter Hospital'\n",
    "]"
   ]
  },
  {
   "cell_type": "code",
   "execution_count": 78,
   "metadata": {},
   "outputs": [],
   "source": [
    "providence_cdms = {}\n",
    "for hospital_name, file_path in zip(hospital_names, file_paths):\n",
    "    providence_cdms[hospital_name] = pd.read_excel(f\"./providence/{file_path}\", skiprows = list(range(0, 7)))\n",
    "    providence_cdms[hospital_name].columns = providence_cdms[hospital_name].iloc[0, :]\n",
    "    providence_cdms[hospital_name].drop(providence_cdms[hospital_name].index[0], inplace=True)\n",
    "    #providence_cdms[hospital_name].drop('Number of Claims', 1)\n",
    "    #providence_cdms[hospital_name].columns = ['hospital', 'drg_code', 'name', 'price']"
   ]
  },
  {
   "cell_type": "code",
   "execution_count": 80,
   "metadata": {
    "scrolled": true
   },
   "outputs": [
    {
     "data": {
      "text/html": [
       "<div>\n",
       "<style scoped>\n",
       "    .dataframe tbody tr th:only-of-type {\n",
       "        vertical-align: middle;\n",
       "    }\n",
       "\n",
       "    .dataframe tbody tr th {\n",
       "        vertical-align: top;\n",
       "    }\n",
       "\n",
       "    .dataframe thead th {\n",
       "        text-align: right;\n",
       "    }\n",
       "</style>\n",
       "<table border=\"1\" class=\"dataframe\">\n",
       "  <thead>\n",
       "    <tr style=\"text-align: right;\">\n",
       "      <th></th>\n",
       "      <th>Facility</th>\n",
       "      <th>MS DRG</th>\n",
       "      <th>Description</th>\n",
       "      <th>Number of Claims</th>\n",
       "      <th>Average Proposed Charge</th>\n",
       "    </tr>\n",
       "  </thead>\n",
       "  <tbody>\n",
       "    <tr>\n",
       "      <th>1</th>\n",
       "      <td>Providence St. Peter Hospital</td>\n",
       "      <td>003</td>\n",
       "      <td>Ecmo Or Trach W Mv &gt;96 Hrs Or Pdx Exc Face, Mo...</td>\n",
       "      <td>28</td>\n",
       "      <td>697327.006830</td>\n",
       "    </tr>\n",
       "    <tr>\n",
       "      <th>2</th>\n",
       "      <td>Providence St. Peter Hospital</td>\n",
       "      <td>004</td>\n",
       "      <td>Trach W Mv &gt;96 Hrs Or Pdx Exc Face, Mouth &amp; Ne...</td>\n",
       "      <td>12</td>\n",
       "      <td>542412.505700</td>\n",
       "    </tr>\n",
       "    <tr>\n",
       "      <th>3</th>\n",
       "      <td>Providence St. Peter Hospital</td>\n",
       "      <td>011</td>\n",
       "      <td>Tracheostomy For Face, Mouth &amp; Neck Diagnoses ...</td>\n",
       "      <td>6</td>\n",
       "      <td>147253.140000</td>\n",
       "    </tr>\n",
       "    <tr>\n",
       "      <th>4</th>\n",
       "      <td>Providence St. Peter Hospital</td>\n",
       "      <td>020</td>\n",
       "      <td>Intracranial Vascular Procedures W Pdx Hemorrh...</td>\n",
       "      <td>7</td>\n",
       "      <td>428392.872857</td>\n",
       "    </tr>\n",
       "    <tr>\n",
       "      <th>5</th>\n",
       "      <td>Providence St. Peter Hospital</td>\n",
       "      <td>021</td>\n",
       "      <td>Intracranial Vascular Procedures W Pdx Hemorrh...</td>\n",
       "      <td>4</td>\n",
       "      <td>276916.050000</td>\n",
       "    </tr>\n",
       "    <tr>\n",
       "      <th>...</th>\n",
       "      <td>...</td>\n",
       "      <td>...</td>\n",
       "      <td>...</td>\n",
       "      <td>...</td>\n",
       "      <td>...</td>\n",
       "    </tr>\n",
       "    <tr>\n",
       "      <th>640</th>\n",
       "      <td>Providence St. Peter Hospital</td>\n",
       "      <td>983</td>\n",
       "      <td>Extensive O.R. Procedure Unrelated To Principa...</td>\n",
       "      <td>6</td>\n",
       "      <td>43776.111667</td>\n",
       "    </tr>\n",
       "    <tr>\n",
       "      <th>641</th>\n",
       "      <td>Providence St. Peter Hospital</td>\n",
       "      <td>987</td>\n",
       "      <td>Non-Extensive O.R. Proc Unrelated To Principal...</td>\n",
       "      <td>19</td>\n",
       "      <td>161707.765937</td>\n",
       "    </tr>\n",
       "    <tr>\n",
       "      <th>642</th>\n",
       "      <td>Providence St. Peter Hospital</td>\n",
       "      <td>988</td>\n",
       "      <td>Non-Extensive O.R. Proc Unrelated To Principal...</td>\n",
       "      <td>11</td>\n",
       "      <td>60946.599091</td>\n",
       "    </tr>\n",
       "    <tr>\n",
       "      <th>643</th>\n",
       "      <td>Providence St. Peter Hospital</td>\n",
       "      <td>989</td>\n",
       "      <td>Non-Extensive O.R. Proc Unrelated To Principal...</td>\n",
       "      <td>1</td>\n",
       "      <td>87350.860000</td>\n",
       "    </tr>\n",
       "    <tr>\n",
       "      <th>644</th>\n",
       "      <td>Providence St. Peter Hospital</td>\n",
       "      <td>998</td>\n",
       "      <td>Principal Diagnosis Invalid As Discharge Diagn...</td>\n",
       "      <td>1</td>\n",
       "      <td>7658.340000</td>\n",
       "    </tr>\n",
       "  </tbody>\n",
       "</table>\n",
       "<p>644 rows × 5 columns</p>\n",
       "</div>"
      ],
      "text/plain": [
       "0                         Facility MS DRG  \\\n",
       "1    Providence St. Peter Hospital    003   \n",
       "2    Providence St. Peter Hospital    004   \n",
       "3    Providence St. Peter Hospital    011   \n",
       "4    Providence St. Peter Hospital    020   \n",
       "5    Providence St. Peter Hospital    021   \n",
       "..                             ...    ...   \n",
       "640  Providence St. Peter Hospital    983   \n",
       "641  Providence St. Peter Hospital    987   \n",
       "642  Providence St. Peter Hospital    988   \n",
       "643  Providence St. Peter Hospital    989   \n",
       "644  Providence St. Peter Hospital    998   \n",
       "\n",
       "0                                          Description Number of Claims  \\\n",
       "1    Ecmo Or Trach W Mv >96 Hrs Or Pdx Exc Face, Mo...               28   \n",
       "2    Trach W Mv >96 Hrs Or Pdx Exc Face, Mouth & Ne...               12   \n",
       "3    Tracheostomy For Face, Mouth & Neck Diagnoses ...                6   \n",
       "4    Intracranial Vascular Procedures W Pdx Hemorrh...                7   \n",
       "5    Intracranial Vascular Procedures W Pdx Hemorrh...                4   \n",
       "..                                                 ...              ...   \n",
       "640  Extensive O.R. Procedure Unrelated To Principa...                6   \n",
       "641  Non-Extensive O.R. Proc Unrelated To Principal...               19   \n",
       "642  Non-Extensive O.R. Proc Unrelated To Principal...               11   \n",
       "643  Non-Extensive O.R. Proc Unrelated To Principal...                1   \n",
       "644  Principal Diagnosis Invalid As Discharge Diagn...                1   \n",
       "\n",
       "0   Average Proposed Charge  \n",
       "1             697327.006830  \n",
       "2             542412.505700  \n",
       "3             147253.140000  \n",
       "4             428392.872857  \n",
       "5             276916.050000  \n",
       "..                      ...  \n",
       "640            43776.111667  \n",
       "641           161707.765937  \n",
       "642            60946.599091  \n",
       "643            87350.860000  \n",
       "644             7658.340000  \n",
       "\n",
       "[644 rows x 5 columns]"
      ]
     },
     "execution_count": 80,
     "metadata": {},
     "output_type": "execute_result"
    }
   ],
   "source": [
    "providence_cdms['providence_st_peter']"
   ]
  },
  {
   "cell_type": "code",
   "execution_count": 71,
   "metadata": {
    "scrolled": true
   },
   "outputs": [
    {
     "name": "stdout",
     "output_type": "stream",
     "text": [
      "0                      NaN     NaN  \\\n",
      "1                 Facility  MS DRG   \n",
      "2    MOUNT CARMEL HOSPITAL     055   \n",
      "3    MOUNT CARMEL HOSPITAL     056   \n",
      "4    MOUNT CARMEL HOSPITAL     057   \n",
      "5    MOUNT CARMEL HOSPITAL     064   \n",
      "..                     ...     ...   \n",
      "187  MOUNT CARMEL HOSPITAL     947   \n",
      "188  MOUNT CARMEL HOSPITAL     951   \n",
      "189  MOUNT CARMEL HOSPITAL     964   \n",
      "190  MOUNT CARMEL HOSPITAL     981   \n",
      "191  MOUNT CARMEL HOSPITAL     988   \n",
      "\n",
      "0                                                  NaN               NaN  \\\n",
      "1                                          Description  Number of Claims   \n",
      "2                 Nervous System Neoplasms Without Mcc                 1   \n",
      "3       Degenerative Nervous System Disorders With Mcc                 1   \n",
      "4    Degenerative Nervous System Disorders Without Mcc                 3   \n",
      "5    Intracranial Hemorrhage Or Cerebral Infarction...                 3   \n",
      "..                                                 ...               ...   \n",
      "187                        Signs And Symptoms With Mcc                 1   \n",
      "188            Other Factors Influencing Health Status                 9   \n",
      "189          Other Multiple Significant Trauma With Cc                 1   \n",
      "190  Extensive O.R. Procedures Unrelated To Princip...                 1   \n",
      "191  Non-Extensive O.R. Procedures Unrelated To Pri...                 2   \n",
      "\n",
      "0                        NaN  \n",
      "1    Average Proposed Charge  \n",
      "2                7203.828600  \n",
      "3               26883.228600  \n",
      "4                8877.097367  \n",
      "5               21634.901833  \n",
      "..                       ...  \n",
      "187             19706.833800  \n",
      "188              5021.963822  \n",
      "189              4661.577300  \n",
      "190             21109.710300  \n",
      "191             16004.717000  \n",
      "\n",
      "[191 rows x 5 columns]\n"
     ]
    }
   ],
   "source": [
    "for k, v in providence_cdms.items():\n",
    "    print(providence_cdms[k])\n",
    "    break"
   ]
  },
  {
   "cell_type": "markdown",
   "metadata": {},
   "source": [
    "The files are in inconsistent format. Need to manually clean."
   ]
  },
  {
   "cell_type": "code",
   "execution_count": null,
   "metadata": {},
   "outputs": [],
   "source": []
  }
 ],
 "metadata": {
  "interpreter": {
   "hash": "5edc29c2ed010d6458d71a83433b383a96a8cbd3efe8531bc90c4b8a5b8bcec9"
  },
  "kernelspec": {
   "display_name": "Python 3",
   "language": "python",
   "name": "python3"
  },
  "language_info": {
   "codemirror_mode": {
    "name": "ipython",
    "version": 3
   },
   "file_extension": ".py",
   "mimetype": "text/x-python",
   "name": "python",
   "nbconvert_exporter": "python",
   "pygments_lexer": "ipython3",
   "version": "3.7.9"
  }
 },
 "nbformat": 4,
 "nbformat_minor": 2
}
